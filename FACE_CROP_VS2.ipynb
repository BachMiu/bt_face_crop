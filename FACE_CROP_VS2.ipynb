{
 "cells": [
  {
   "cell_type": "code",
   "execution_count": 1,
   "metadata": {},
   "outputs": [
    {
     "name": "stdout",
     "output_type": "stream",
     "text": [
      "Author: hoaint.13\n",
      "usage: face_detector_hoai <image file name>\n",
      "Ex: face_detector_hoai demo.jpg\n",
      "Successfully saved the results to faces_-f\n"
     ]
    }
   ],
   "source": [
    "import numpy as np\n",
    "import cv2 as cv\n",
    "import sys\n",
    "\n",
    "TRAINING_FILE_NAME            = \"haarcascade_frontalface_alt.xml\"\n",
    "\n",
    "def showHelp():\n",
    "    print(\"Author: hoaint.13\")\n",
    "    #print(\"--help/-h\\tShow usage help\")\n",
    "    print(\"usage: face_detector_hoai <image file name>\")\n",
    "    print(\"Ex: face_detector_hoai demo.jpg\")\n",
    "\n",
    "if __name__ == '__main__':\n",
    "    if len(sys.argv) != 2:\n",
    "        showHelp()\n",
    "        exit(1)\n",
    "\n",
    "    imageFileName = sys.argv[1]\n",
    "    face_cascade = cv.CascadeClassifier(TRAINING_FILE_NAME)\n",
    "    img = cv.imread('demo.jpg')\n",
    "    gray = cv.cvtColor(img, cv.COLOR_BGR2GRAY)\n",
    "    faces = face_cascade.detectMultiScale(gray, 1.3, 5)\n",
    "    face_crop = []\n",
    "    for (x,y,w,h) in faces:\n",
    "        cv.rectangle(img,(x,y),(x+w,y+h),(0, 0, 255),2)\n",
    "        roi_gray = gray[y:y+h, x:x+w]\n",
    "        roi_color = img[y:y+h, x:x+w]\n",
    "        face_crop.append(img[y:y+h, x:x+w])\n",
    "        \n",
    "\n",
    "    faceFileName = \"faces_\" + imageFileName\n",
    "    cv.imwrite('demo_1.jpg', img)\n",
    "    \n",
    "    print (\"Successfully saved the results to %s\" %(faceFileName))\n",
    "    \n",
    "    for i in range(0,len(face_crop)):\n",
    "        face_crop_name = \"face_\" +str(i) + \".jpg\"\n",
    "        cv.imwrite(face_crop_name, face_crop[i])\n",
    "      \n",
    "        \n",
    "         "
   ]
  },
  {
   "cell_type": "code",
   "execution_count": null,
   "metadata": {},
   "outputs": [],
   "source": []
  }
 ],
 "metadata": {
  "kernelspec": {
   "display_name": "tensorflow",
   "language": "python",
   "name": "tensorflow"
  },
  "language_info": {
   "codemirror_mode": {
    "name": "ipython",
    "version": 3
   },
   "file_extension": ".py",
   "mimetype": "text/x-python",
   "name": "python",
   "nbconvert_exporter": "python",
   "pygments_lexer": "ipython3",
   "version": "3.5.6"
  }
 },
 "nbformat": 4,
 "nbformat_minor": 2
}
